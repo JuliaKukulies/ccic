{
 "cells": [
  {
   "cell_type": "markdown",
   "id": "a1ded1bd",
   "metadata": {},
   "source": [
    "# Training data"
   ]
  },
  {
   "cell_type": "code",
   "execution_count": null,
   "id": "67c79bd0",
   "metadata": {},
   "outputs": [],
   "source": [
    "%load_ext autoreload\n",
    "%autoreload 2\n",
    "from pathlib import Path\n",
    "\n",
    "import numpy as np\n",
    "import matplotlib.pyplot as plt\n",
    "import xarray as xr"
   ]
  },
  {
   "cell_type": "code",
   "execution_count": null,
   "id": "3c21992d",
   "metadata": {},
   "outputs": [],
   "source": [
    "files = list(Path(\"/home/simonpf/data_3/ccic/training_data/\").glob(\"cloudsat_match*.nc\"))\n",
    "data = xr.load_dataset(np.random.choice(files))"
   ]
  },
  {
   "cell_type": "markdown",
   "id": "845e6c76",
   "metadata": {},
   "source": [
    "The retrieval output is stored in a sparse format. The variables ``profile_row_inds`` and ``profiles_col_inds`` specify the indices of the rows and columns of the 2D input image that the profiles correspond to."
   ]
  },
  {
   "cell_type": "code",
   "execution_count": null,
   "id": "5e976b3c",
   "metadata": {},
   "outputs": [],
   "source": [
    "row_inds = data.profile_row_inds\n",
    "col_inds = data.profile_column_inds"
   ]
  },
  {
   "cell_type": "code",
   "execution_count": null,
   "id": "8ba54dc5",
   "metadata": {},
   "outputs": [],
   "source": [
    "iwp = data.iwp.data\n",
    "iwc = data.iwc.data\n",
    "cloud_class = data.cloud_class.data\n",
    "tbs = data.ir_win.data[row_inds, col_inds]\n",
    "cs_lats = data.latitude_cloudsat.data\n",
    "cs_lons = data.longitude_cloudsat.data"
   ]
  },
  {
   "cell_type": "code",
   "execution_count": null,
   "id": "5954ded3",
   "metadata": {},
   "outputs": [],
   "source": [
    "from matplotlib.gridspec import GridSpec\n",
    "from matplotlib.colors import LogNorm, Normalize\n",
    "\n",
    "f = plt.figure(figsize=(8, 8))\n",
    "gs = GridSpec(3, 2, width_ratios=(1.0, 0.08))\n",
    "\n",
    "axs = np.array([f.add_subplot(gs[i, 0]) for i in range(3)])\n",
    "\n",
    "# IWP and Tbs\n",
    "x = cs_lats\n",
    "ax = axs[0]\n",
    "ax.plot(cs_lats, tbs, c=\"C1\")\n",
    "ax.set_ylabel(\"Brithness temp. [K]\", color=\"C1\")\n",
    "ax = ax.twinx()\n",
    "ax.plot(cs_lats, iwp, c=\"C0\")\n",
    "ax.set_yscale(\"log\")\n",
    "ax.set_ylabel(\"IWP [g / m^2]\", color=\"C0\")\n",
    "\n",
    "# IWC\n",
    "ax = axs[1]\n",
    "iwc_norm = LogNorm(1e-3, 1e0)\n",
    "y = data.levels.data\n",
    "m = ax.pcolormesh(x, y, iwc.T, norm=iwc_norm)\n",
    "\n",
    "cax = f.add_subplot(gs[1, -1])\n",
    "plt.colorbar(m, cax=cax, label=\"IWC [g/m^3]\")\n",
    "\n",
    "\n",
    "# Cloud mask\n",
    "ax = axs[2]\n",
    "y = data.levels.data\n",
    "m = ax.pcolormesh(x, y, cloud_class.T, cmap=\"Set2\", norm=Normalize(-0.5, 7.5))\n",
    "\n",
    "cax = f.add_subplot(gs[2, -1])\n",
    "plt.colorbar(m, cax=cax, label=\"Cloud class\")"
   ]
  }
 ],
 "metadata": {
  "kernelspec": {
   "display_name": "Python 3 (ipykernel)",
   "language": "python",
   "name": "python3"
  },
  "language_info": {
   "codemirror_mode": {
    "name": "ipython",
    "version": 3
   },
   "file_extension": ".py",
   "mimetype": "text/x-python",
   "name": "python",
   "nbconvert_exporter": "python",
   "pygments_lexer": "ipython3",
   "version": "3.8.13"
  }
 },
 "nbformat": 4,
 "nbformat_minor": 5
}
